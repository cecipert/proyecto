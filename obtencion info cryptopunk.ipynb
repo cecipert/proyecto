{
 "cells": [
  {
   "cell_type": "markdown",
   "id": "2a49a8eb",
   "metadata": {},
   "source": [
    "# Cryptopunks: obtener datos de un cryptopunk"
   ]
  },
  {
   "cell_type": "code",
   "execution_count": 44,
   "id": "5d810f34",
   "metadata": {},
   "outputs": [],
   "source": [
    "import pandas as pd\n",
    "import numpy as np\n",
    "\n",
    "\n",
    "import requests\n",
    "from bs4 import BeautifulSoup\n",
    "\n",
    "import time\n",
    "from selenium import webdriver\n",
    "from selenium.webdriver.chrome.service import Service\n",
    "\n",
    "from selenium.webdriver.common.keys import Keys\n",
    "from scrapy import Selector\n",
    "import math\n",
    "\n",
    "import mysql.connector"
   ]
  },
  {
   "cell_type": "markdown",
   "id": "bced12ce",
   "metadata": {},
   "source": [
    "## Establecer conexión con la BD"
   ]
  },
  {
   "cell_type": "code",
   "execution_count": 45,
   "id": "444b28a5",
   "metadata": {},
   "outputs": [],
   "source": [
    "# Connect to the new database\n",
    "mydb = mysql.connector.connect(\n",
    "  host=\"localhost\",\n",
    "  user=\"cecilia\",\n",
    "  password=\"cecilia\",\n",
    "  database=\"cryptopunks\"\n",
    ")\n",
    "\n",
    "mycursor = mydb.cursor()\n",
    "\n"
   ]
  },
  {
   "cell_type": "markdown",
   "id": "7d7310ca",
   "metadata": {},
   "source": [
    "## Acceso a la página de un cryptopunk"
   ]
  },
  {
   "cell_type": "code",
   "execution_count": 57,
   "id": "07bb5313",
   "metadata": {},
   "outputs": [],
   "source": [
    "# Define the cryptopunt to scrap\n",
    "#nro_cp = 8348\n",
    "nro_cp = 5214\n",
    "\n",
    "url = 'https://www.larvalabs.com/cryptopunks/details/'+str(nro_cp)\n",
    "\n"
   ]
  },
  {
   "cell_type": "code",
   "execution_count": 58,
   "id": "2377146d",
   "metadata": {},
   "outputs": [],
   "source": [
    "# Use BeautifulSoup por webscrapping\n",
    "html=requests.get(url)\n",
    "soup = BeautifulSoup(html.content, 'html.parser')\n",
    "#print(soup)"
   ]
  },
  {
   "cell_type": "markdown",
   "id": "e42507ec",
   "metadata": {},
   "source": [
    "## Obtener el tipo del cryptopunk"
   ]
  },
  {
   "cell_type": "code",
   "execution_count": 59,
   "id": "1387cd9e",
   "metadata": {},
   "outputs": [
    {
     "name": "stdout",
     "output_type": "stream",
     "text": [
      "Male\n"
     ]
    }
   ],
   "source": [
    "h4 = soup.find_all('h4')\n",
    "tipo_cp = h4[0].text.split()[3]\n",
    "print(tipo_cp)"
   ]
  },
  {
   "cell_type": "markdown",
   "id": "bca28b2d",
   "metadata": {},
   "source": [
    "## Obtener el nombre del owner, y saber si está a la venta y su precio"
   ]
  },
  {
   "cell_type": "code",
   "execution_count": 60,
   "id": "ddc344af",
   "metadata": {},
   "outputs": [
    {
     "name": "stdout",
     "output_type": "stream",
     "text": [
      "Owner: 0xcc7c33\n",
      "Precio de venta 102.69\n",
      "For sale True\n",
      "Bids: False\n"
     ]
    }
   ],
   "source": [
    "varios =soup.find_all('div', class_=\"col-md-10 col-md-offset-1\")\n",
    "\n",
    "for linea in varios:\n",
    "    texto = linea.text\n",
    "    # Busco la línea que comienza con ...\n",
    "    if texto.strip().startswith('Current Market Status') and texto.find('currently')>0:\n",
    "        # Extraigo el nombre del dueño\n",
    "        if texto.find(\"This punk is currently owned by address\")>0:\n",
    "            owner = texto.split('address ')[1].split('.',1)[0]\n",
    "            print('Owner:',owner)\n",
    "        \n",
    "        # Averiguo si está en venta\n",
    "        precio_venta = 0\n",
    "        if texto.find(\"This punk is currently for sale by owner\")>0:\n",
    "            sale = True\n",
    "            precio_venta = texto.split('by owner for ')[1].split('Ξ',1)[0]\n",
    "            print('Precio de venta', precio_venta)\n",
    "        else:\n",
    "            sale = False # Dice 'This punk has not been listed for sale by its owner'\n",
    "        print('For sale',sale)\n",
    "        \n",
    "        # Averiguo si hay ofertas\n",
    "        oferta = 0\n",
    "        if texto.find(\"There is a bid of\")>0:\n",
    "            bids = True\n",
    "            oferta = texto.split('is a bid of ')[1].split('Ξ',1)[0]\n",
    "            print('Valor ofrecido', oferta)\n",
    "             \n",
    "        else:\n",
    "            bids = False  # Dice \"There are currently no bids on this punk.\"\n",
    "        print('Bids:',bids)\n",
    "\n"
   ]
  },
  {
   "cell_type": "code",
   "execution_count": 61,
   "id": "876505b9",
   "metadata": {},
   "outputs": [],
   "source": [
    "# Insert cryptopunk data into the table\n",
    "sql = \"INSERT INTO cryptopunks (cpID, owner, type, for_sale, value_price, bids, bid_value) VALUES (%s, %s, %s, %s, %s, %s, %s )\"\n",
    "\n",
    "mycursor.execute(sql, (nro_cp, owner, tipo_cp, sale, precio_venta, bids, oferta ))\n",
    "\n",
    "mydb.commit()"
   ]
  },
  {
   "cell_type": "markdown",
   "id": "cc9623a3",
   "metadata": {},
   "source": [
    "## Obtener la lista de transacciones realizadas"
   ]
  },
  {
   "cell_type": "code",
   "execution_count": 62,
   "id": "1895494a",
   "metadata": {},
   "outputs": [],
   "source": [
    "text1 = soup.find_all('a', text = '')\n",
    "#print(text1)"
   ]
  },
  {
   "cell_type": "code",
   "execution_count": 63,
   "id": "a708a10d",
   "metadata": {},
   "outputs": [],
   "source": [
    "transacciones =[]"
   ]
  },
  {
   "cell_type": "code",
   "execution_count": 64,
   "id": "a92c43e6",
   "metadata": {},
   "outputs": [
    {
     "name": "stdout",
     "output_type": "stream",
     "text": [
      "[['Bid Withdrawn', '0x6ad931', '', '95Ξ ($226,581)', 'Jan 24, 2022'], ['Bid', '0x6ad931', '', '95Ξ ($226,510)', 'Jan 23, 2022'], ['Bid Withdrawn', '0x6ad931', '', '87Ξ ($207,436)', 'Jan 23, 2022'], ['Bid', '0x6ad931', '', '87Ξ ($207,436)', 'Jan 23, 2022'], ['Bid Withdrawn', 'punksotc…', '', '75Ξ ($277,358)', 'Dec 31, 2021'], ['Offered', '', '', '102.69Ξ ($379,759)', 'Dec 31, 2021'], ['Bid', 'punksotc…', '', '75Ξ ($277,358)', 'Dec 31, 2021'], ['Bid', 'thebinoc…', '', '69Ξ ($255,170)', 'Dec 31, 2021'], ['Bid Withdrawn', 'bundo.et…', '', '21Ξ ($43,351)', 'Jul 23, 2021'], ['Bid', 'bundo.et…', '', '21Ξ ($39,573)', 'Jul 17, 2021'], ['Claimed', '', '0xcc7c33', '', 'Jun 23, 2017']]\n"
     ]
    }
   ],
   "source": [
    "transac =soup.find('table', class_=\"table\")\n",
    "#print(transac)\n",
    "\n",
    "for tr in transac.find_all('tr'):\n",
    "    lista = []\n",
    "    for td in tr.find_all('td'):\n",
    "        lista.append(td.text.strip())\n",
    "    transacciones.append(lista)\n",
    "transacciones = transacciones[1:]\n",
    "print(transacciones)"
   ]
  },
  {
   "cell_type": "code",
   "execution_count": 65,
   "id": "7ca28bd4",
   "metadata": {},
   "outputs": [],
   "source": [
    "# Insert data into the table\n",
    "sql = \"INSERT INTO transactions (cpID, tr_type, tr_from, tr_to, amount, txn) VALUES (%s, %s, %s, %s, %s, %s)\"\n",
    "\n",
    "for tr in transacciones:\n",
    "    if len(tr)>0:\n",
    "        mycursor.execute(sql, (nro_cp, tr[0],  tr[1], tr[2], tr[3], tr[4]))\n",
    "\n",
    "mydb.commit()"
   ]
  },
  {
   "cell_type": "code",
   "execution_count": null,
   "id": "041b7cd2",
   "metadata": {},
   "outputs": [],
   "source": []
  },
  {
   "cell_type": "markdown",
   "id": "f01403e4",
   "metadata": {},
   "source": [
    "## Obtener atributos del cryptopunk"
   ]
  },
  {
   "cell_type": "code",
   "execution_count": 66,
   "id": "6b479fdb",
   "metadata": {},
   "outputs": [
    {
     "name": "stdout",
     "output_type": "stream",
     "text": [
      "Atributos: ['Silver Chain', 'Wild Hair', 'Eye Patch']\n"
     ]
    }
   ],
   "source": [
    "cod =soup.find_all('div', class_=\"col-md-4\")\n",
    "textos = []\n",
    "for c in cod:\n",
    "    textos.append(c.find('a').text)\n",
    "    \n",
    "atributos = textos[1:]\n",
    "print('Atributos:',atributos)"
   ]
  },
  {
   "cell_type": "code",
   "execution_count": 67,
   "id": "07905744",
   "metadata": {},
   "outputs": [],
   "source": [
    "# Insert data into the table attributes\n",
    "sql = \"INSERT INTO cp_attributes (cpID, attribute) VALUES (%s, %s)\"\n",
    "\n",
    "for atr in atributos:\n",
    "    mycursor.execute(sql, (nro_cp,atr))\n",
    "\n",
    "mydb.commit()"
   ]
  },
  {
   "cell_type": "code",
   "execution_count": null,
   "id": "c7ffb5df",
   "metadata": {},
   "outputs": [],
   "source": []
  },
  {
   "cell_type": "code",
   "execution_count": null,
   "id": "938a8e24",
   "metadata": {},
   "outputs": [],
   "source": []
  },
  {
   "cell_type": "code",
   "execution_count": null,
   "id": "083fa5fc",
   "metadata": {},
   "outputs": [],
   "source": []
  },
  {
   "cell_type": "code",
   "execution_count": null,
   "id": "925185ed",
   "metadata": {},
   "outputs": [],
   "source": []
  }
 ],
 "metadata": {
  "kernelspec": {
   "display_name": "Python 3",
   "language": "python",
   "name": "python3"
  },
  "language_info": {
   "codemirror_mode": {
    "name": "ipython",
    "version": 3
   },
   "file_extension": ".py",
   "mimetype": "text/x-python",
   "name": "python",
   "nbconvert_exporter": "python",
   "pygments_lexer": "ipython3",
   "version": "3.8.8"
  }
 },
 "nbformat": 4,
 "nbformat_minor": 5
}
