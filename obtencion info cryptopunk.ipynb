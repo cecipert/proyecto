{
 "cells": [
  {
   "cell_type": "markdown",
   "id": "2a49a8eb",
   "metadata": {},
   "source": [
    "# Cryptopunks: obtener datos de un cryptopunk"
   ]
  },
  {
   "cell_type": "code",
   "execution_count": 1,
   "id": "5d810f34",
   "metadata": {},
   "outputs": [],
   "source": [
    "import pandas as pd\n",
    "import numpy as np\n",
    "\n",
    "from datetime import datetime\n",
    "\n",
    "import requests\n",
    "from bs4 import BeautifulSoup\n",
    "\n",
    "import time\n",
    "from selenium import webdriver\n",
    "from selenium.webdriver.chrome.service import Service\n",
    "\n",
    "from selenium.webdriver.common.keys import Keys\n",
    "from scrapy import Selector\n",
    "import math\n",
    "\n",
    "import mysql.connector\n",
    "\n",
    "import re"
   ]
  },
  {
   "cell_type": "markdown",
   "id": "bced12ce",
   "metadata": {},
   "source": [
    "## Establecer conexión con la BD"
   ]
  },
  {
   "cell_type": "code",
   "execution_count": 2,
   "id": "444b28a5",
   "metadata": {},
   "outputs": [],
   "source": [
    "# Connect to the new database\n",
    "mydb = mysql.connector.connect(\n",
    "  host=\"localhost\",\n",
    "  user=\"cecilia\",\n",
    "  password=\"cecilia\",\n",
    "  database=\"cryptopunks\"\n",
    ")\n",
    "\n",
    "mycursor = mydb.cursor()\n",
    "\n"
   ]
  },
  {
   "cell_type": "markdown",
   "id": "7d7310ca",
   "metadata": {},
   "source": [
    "## Acceso a la página de un cryptopunk"
   ]
  },
  {
   "cell_type": "code",
   "execution_count": 3,
   "id": "07bb5313",
   "metadata": {},
   "outputs": [],
   "source": [
    "# Define the cryptopunt to scrap\n",
    "#nro_cp = 8348\n",
    "#nro_cp = 5214\n",
    "nro_cp = 4347\n",
    "\n",
    "url = 'https://www.larvalabs.com/cryptopunks/details/'+str(nro_cp)\n",
    "\n"
   ]
  },
  {
   "cell_type": "code",
   "execution_count": 4,
   "id": "2377146d",
   "metadata": {},
   "outputs": [],
   "source": [
    "# Use BeautifulSoup por webscrapping\n",
    "html=requests.get(url)\n",
    "soup = BeautifulSoup(html.content, 'html.parser')\n",
    "#print(soup)"
   ]
  },
  {
   "cell_type": "markdown",
   "id": "e42507ec",
   "metadata": {},
   "source": [
    "## Obtener la información del cryptopunk"
   ]
  },
  {
   "cell_type": "code",
   "execution_count": 5,
   "id": "94d3d9aa",
   "metadata": {},
   "outputs": [],
   "source": [
    "def obtener_cryptopunk(soup, mydb):\n",
    "    # Obtener el tipo de cryptopunk\n",
    "    h4 = soup.find_all('h4')\n",
    "    tipo_cp = h4[0].text.split()[3]\n",
    "    print(tipo_cp)\n",
    "    \n",
    "    # Obtener el nombre del owner, y saber si está a la venta y su precio\n",
    "    varios =soup.find_all('div', class_=\"col-md-10 col-md-offset-1\")\n",
    "\n",
    "    for linea in varios:\n",
    "        texto = linea.text\n",
    "        # Busco la línea que comienza con ...\n",
    "        if texto.strip().startswith('Current Market Status') and texto.find('currently')>0:\n",
    "            # Extraigo el nombre del dueño\n",
    "            if texto.find(\"This punk is currently owned by address\")>0:\n",
    "                owner = texto.split('address ')[1].split('.',1)[0]\n",
    "                print('Owner:',owner)\n",
    "        \n",
    "            # Averiguo si está en venta\n",
    "            precio_venta = 0\n",
    "            if texto.find(\"This punk is currently for sale by owner\")>0:\n",
    "                sale = True\n",
    "                precio_venta = texto.split('by owner for ')[1].split('Ξ',1)[0]\n",
    "                print('Precio de venta', precio_venta)\n",
    "            else:\n",
    "                sale = False # Dice 'This punk has not been listed for sale by its owner'\n",
    "            print('For sale',sale)\n",
    "        \n",
    "            # Averiguo si hay ofertas\n",
    "            oferta = 0\n",
    "            if texto.find(\"There is a bid of\")>0:\n",
    "                bids = True\n",
    "                oferta = texto.split('is a bid of ')[1].split('Ξ',1)[0]\n",
    "                print('Valor ofrecido', oferta)\n",
    "             \n",
    "            else:\n",
    "                bids = False  # Dice \"There are currently no bids on this punk.\"\n",
    "            print('Bids:',bids)\n",
    "\n",
    "    # Obtain the typeID\n",
    "    mycursor.execute(\"SELECT tyID FROM types WHERE at_type = %s\", (tipo_cp.strip(),))\n",
    "    id_tipo = mycursor.fetchone()[0]\n",
    "\n",
    "    # Insert cryptopunk data into the table\n",
    "    sql = \"INSERT INTO cryptopunks (cpID, owner, tyID, for_sale, bids) VALUES (%s, %s, %s, %s, %s )\"\n",
    "\n",
    "    mycursor.execute(sql, (nro_cp, owner, id_tipo, sale, bids ))\n",
    "\n",
    "    \n",
    "    mydb.commit()        "
   ]
  },
  {
   "cell_type": "markdown",
   "id": "cc9623a3",
   "metadata": {},
   "source": [
    "## Obtener la lista de transacciones realizadas"
   ]
  },
  {
   "cell_type": "code",
   "execution_count": 6,
   "id": "041b7cd2",
   "metadata": {},
   "outputs": [],
   "source": [
    "def obtener_transacciones(soup, mydb):\n",
    "    \n",
    "    def obtener_montos(str1):\n",
    "        salida = re.search(\"(((\\(\\$)\\s*\\d+)([,]\\d+){0,1}([,]\\d+){0,1}([.]?\\d{2})?)[MK]?\\)\", str1)\n",
    "        con_coma = salida[0][2:-1]\n",
    "        sin_coma = con_coma.replace(',','')\n",
    "        if sin_coma.find('M')>0:\n",
    "            sin_coma = sin_coma[0:-1]\n",
    "            monto_dols = float(sin_coma)\n",
    "            monto_dols = monto_dols * 1000000\n",
    "        elif sin_coma.find('K')>0:\n",
    "            sin_coma = sin_coma[0:-1]\n",
    "            monto_dols = float(sin_coma)\n",
    "            monto_dols = monto_dols * 1000\n",
    "        else: \n",
    "            monto_dols = float(sin_coma)\n",
    "        con_E = re.search(\"(\\d+([,]\\d+)?([.]\\d{2})?)?\\Ξ\", str1)\n",
    "        monto = float(con_E[1].replace(',',''))\n",
    "        return monto, monto_dols\n",
    "        \n",
    "    text1 = soup.find_all('a', text = '')\n",
    "    #print(text1)\n",
    "    \n",
    "    transacciones =[]\n",
    "    \n",
    "    transac =soup.find('table', class_=\"table\")\n",
    "    #print(transac)\n",
    "\n",
    "    for tr in transac.find_all('tr'):\n",
    "        lista = []\n",
    "        for td in tr.find_all('td'):\n",
    "            lista.append(td.text.strip())\n",
    "        transacciones.append(lista)\n",
    "    transacciones = transacciones[1:]\n",
    "    print(transacciones)\n",
    "    \n",
    "  \n",
    "    # Insert data into the table\n",
    "    sql = \"INSERT INTO transactions (cpID, tr_type, tr_from, tr_to, amount, amount_dols, txn) VALUES (%s, %s, %s, %s, %s, %s, %s)\"\n",
    "\n",
    "    for tr in transacciones:\n",
    "        # si la transaccion no esta vacia\n",
    "        if len(tr)>0:\n",
    "            # Hay un monto de transacción?\n",
    "            monto = 0\n",
    "            monto_dols = 0\n",
    "            if len(tr[3])>0:\n",
    "                monto, monto_dols = obtener_montos(tr[3])\n",
    "            \n",
    "            fecha = datetime.strptime(tr[4], \"%b %d, %Y\")\n",
    "            \n",
    "    \n",
    "            mycursor.execute(sql, (nro_cp, tr[0],  tr[1], tr[2], monto, monto_dols, fecha))\n",
    "\n",
    "    \n",
    "    mydb.commit()"
   ]
  },
  {
   "cell_type": "markdown",
   "id": "f01403e4",
   "metadata": {},
   "source": [
    "## Obtener atributos del cryptopunk"
   ]
  },
  {
   "cell_type": "code",
   "execution_count": 7,
   "id": "ffb9c198",
   "metadata": {},
   "outputs": [],
   "source": [
    "def obtener_atributos(soup, mydb):\n",
    "    cod =soup.find_all('div', class_=\"col-md-4\")\n",
    "    textos = []\n",
    "    for c in cod:\n",
    "        textos.append(c.find('a').text)\n",
    "    \n",
    "    atributos = textos[1:]\n",
    "    print('Atributos:', atributos)\n",
    "    \n",
    "    # Insert data into the table attributes\n",
    "    sql = \"INSERT INTO cp_attributes (cpID, atID) VALUES (%s, %s)\"\n",
    "\n",
    "    for atr in atributos:\n",
    "        # Obtain the typeID\n",
    "        mycursor.execute(\"SELECT atID FROM attributes WHERE attribute = %s\", (atr.strip(),))\n",
    "        id_atr = mycursor.fetchone()[0]\n",
    "        \n",
    "        mycursor.execute(sql, (nro_cp,id_atr))\n",
    "\n",
    "\n",
    "    mydb.commit()"
   ]
  },
  {
   "cell_type": "code",
   "execution_count": 8,
   "id": "fd674fdb",
   "metadata": {},
   "outputs": [
    {
     "name": "stdout",
     "output_type": "stream",
     "text": [
      "Female\n",
      "Owner: 0xc3c14f\n",
      "Precio de venta 288\n",
      "For sale True\n",
      "Bids: False\n",
      "[['Offered', '', '', '288Ξ ($1.26M)', 'Oct 30, 2021'], ['Offered', '', '', '888.80Ξ ($3.45M)', 'Sep 07, 2021'], ['Offered', '', '', '400Ξ ($1.52M)', 'Sep 02, 2021'], ['Sold', '0x50dd57', '0xc3c14f', '222Ξ ($703,216)', 'Aug 29, 2021'], ['Offered', '', '', '222Ξ ($704,171)', 'Aug 24, 2021'], ['Offer Withdrawn', '', '', '', 'Aug 23, 2021'], ['Offered', '', '', '130Ξ ($396,741)', 'Aug 19, 2021'], ['Transfer', '0xb1adce', '0x50dd57', '', 'Mar 16, 2021'], ['Sold', '0xc352b5', '0xb1adce', '45Ξ ($87,922)', 'Feb 21, 2021'], ['Offered', '', '', '45Ξ ($85,990)', 'Feb 19, 2021'], ['Bid Withdrawn', 'Pranksy', '', '1Ξ ($136)', 'Jan 05, 2020'], ['Bid', 'Pranksy', '', '1Ξ ($132)', 'Jan 01, 2020'], ['Bid', '0x717403', '', '0.05Ξ ($13)', 'Jun 26, 2017'], ['Claimed', '', '0xc352b5', '', 'Jun 23, 2017']]\n",
      "Atributos: ['Pink With Hat', 'Nerd Glasses']\n"
     ]
    }
   ],
   "source": [
    "obtener_cryptopunk(soup, mydb)\n",
    "obtener_transacciones(soup, mydb)\n",
    "obtener_atributos(soup, mydb)"
   ]
  },
  {
   "cell_type": "code",
   "execution_count": null,
   "id": "730052d0",
   "metadata": {},
   "outputs": [],
   "source": []
  },
  {
   "cell_type": "code",
   "execution_count": null,
   "id": "0cbc2eb9",
   "metadata": {},
   "outputs": [],
   "source": [
    "        str1 = \n",
    "        salida = re.search(\"(((\\(\\$)\\s*\\d+)([,]\\d+){0,1}([,]\\d+){0,1}([.]?\\d{2})?)[MK]?\\)\", str1)\n",
    "        con_coma = salida[0][2:-1]\n",
    "        sin_coma = con_coma.replace(',','')\n",
    "        if sin_coma.find('M')>0:\n",
    "            sin_coma = sin_coma[0:-1]\n",
    "            monto_dols = float(sin_coma)\n",
    "            monto_dols = monto_dols * 1000000\n",
    "        elif sin_coma.find('K')>0:\n",
    "            sin_coma = sin_coma[0:-1]\n",
    "            monto_dols = float(sin_coma)\n",
    "            monto_dols = monto_dols * 1000\n",
    "        else: \n",
    "            monto_dols = float(sin_coma)\n",
    "        con_E = re.search(\"(\\d+([,]\\d+)?([.]\\d{2})?)?\\Ξ\", str1)\n",
    "        monto = float(con_E[1].replace(',',''))\n",
    "        return monto, monto_dols\n"
   ]
  }
 ],
 "metadata": {
  "kernelspec": {
   "display_name": "Python 3",
   "language": "python",
   "name": "python3"
  },
  "language_info": {
   "codemirror_mode": {
    "name": "ipython",
    "version": 3
   },
   "file_extension": ".py",
   "mimetype": "text/x-python",
   "name": "python",
   "nbconvert_exporter": "python",
   "pygments_lexer": "ipython3",
   "version": "3.8.8"
  }
 },
 "nbformat": 4,
 "nbformat_minor": 5
}
