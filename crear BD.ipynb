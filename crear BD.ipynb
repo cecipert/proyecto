{
 "cells": [
  {
   "cell_type": "markdown",
   "id": "aade50bb",
   "metadata": {},
   "source": [
    "# Crear la BD para guardar los datos"
   ]
  },
  {
   "cell_type": "code",
   "execution_count": 1,
   "id": "c1d5a11d",
   "metadata": {},
   "outputs": [],
   "source": [
    "import pandas as pd\n",
    "import numpy as np\n",
    "import matplotlib.pyplot as plt\n",
    "import seaborn as sns\n",
    "\n",
    "import mysql.connector\n",
    "from random import seed\n",
    "from random import randint\n",
    "\n",
    "import matplotlib as mpl"
   ]
  },
  {
   "cell_type": "code",
   "execution_count": 2,
   "id": "088c5f40",
   "metadata": {},
   "outputs": [
    {
     "name": "stdout",
     "output_type": "stream",
     "text": [
      "<mysql.connector.connection_cext.CMySQLConnection object at 0x0000021887369AF0>\n"
     ]
    }
   ],
   "source": [
    "# Connect to MySQL\n",
    "mydb = mysql.connector.connect(\n",
    "  host=\"localhost\",\n",
    "  user=\"cecilia\",\n",
    "  password=\"cecilia\"\n",
    ")\n",
    "\n",
    "print(mydb)"
   ]
  },
  {
   "cell_type": "code",
   "execution_count": 3,
   "id": "3d65ec81",
   "metadata": {},
   "outputs": [
    {
     "name": "stdout",
     "output_type": "stream",
     "text": [
      "Succesfull creation of database\n"
     ]
    }
   ],
   "source": [
    "# Create a database\n",
    "mycursor = mydb.cursor()\n",
    "\n",
    "mycursor.execute(\"CREATE DATABASE IF NOT EXISTS cryptopunks\")\n",
    "\n",
    "mycursor.execute(\"SHOW DATABASES\")\n",
    "\n",
    "for x in mycursor:\n",
    "  if x[0] == 'cryptopunks':\n",
    "    print('Succesfull creation of database')"
   ]
  },
  {
   "cell_type": "code",
   "execution_count": 4,
   "id": "87f9bdb9",
   "metadata": {},
   "outputs": [],
   "source": [
    "# Connect to the new database\n",
    "mydb = mysql.connector.connect(\n",
    "  host=\"localhost\",\n",
    "  user=\"cecilia\",\n",
    "  password=\"cecilia\",\n",
    "  database=\"cryptopunks\"\n",
    ")"
   ]
  },
  {
   "cell_type": "code",
   "execution_count": 5,
   "id": "6c5a4579",
   "metadata": {},
   "outputs": [],
   "source": [
    "mycursor = mydb.cursor()\n",
    "\n",
    "# Create tables \n",
    "\n",
    "mycursor.execute(\"CREATE TABLE IF NOT EXISTS cryptopunks (cpID INT NOT NULL, owner CHAR(55), type CHAR(55), for_sale BOOLEAN, value_price INT, bids BOOLEAN, bid_value INT, PRIMARY KEY (cpID))\")\n",
    "mycursor.execute(\"CREATE TABLE IF NOT EXISTS cp_attributes (cpID INT NOT NULL, attribute CHAR(55) NOT NULL, FOREIGN KEY (cpID) REFERENCES cryptopunks(cpID))\")\n",
    "mycursor.execute(\"CREATE TABLE IF NOT EXISTS transactions (trID INT NOT NULL AUTO_INCREMENT, cpID INT NOT NULL, tr_type CHAR(55), tr_from CHAR(55), tr_to CHAR(55), amount CHAR(55), txn CHAR(55), PRIMARY KEY (trID))\")\n",
    "\n",
    "                 \n",
    "# mycursor.execute(\"CREATE TABLE IF NOT EXISTS grades (studentID INT, subjectID INT, grade INT, FOREIGN KEY (studentID) REFERENCES students(studentID), FOREIGN KEY (subjectID) REFERENCES subjects(subjectID))\")\n",
    "    \n",
    "mydb.commit()"
   ]
  },
  {
   "cell_type": "markdown",
   "id": "d73b0077",
   "metadata": {},
   "source": [
    "## OJO!! Borra la base de datos"
   ]
  },
  {
   "cell_type": "code",
   "execution_count": null,
   "id": "85fdbb8e",
   "metadata": {},
   "outputs": [],
   "source": [
    "# To delete database\n",
    "mycursor.execute(\"DROP TABLE cryptopunks\") \n",
    "mycursor.execute(\"DROP TABLE attributes\") \n",
    "mycursor.execute(\"DROP TABLE transactions\") \n",
    "mycursor.execute(\"DROP DATABASE cryptopunks\")"
   ]
  },
  {
   "cell_type": "code",
   "execution_count": null,
   "id": "521cd85a",
   "metadata": {},
   "outputs": [],
   "source": []
  }
 ],
 "metadata": {
  "kernelspec": {
   "display_name": "Python 3",
   "language": "python",
   "name": "python3"
  },
  "language_info": {
   "codemirror_mode": {
    "name": "ipython",
    "version": 3
   },
   "file_extension": ".py",
   "mimetype": "text/x-python",
   "name": "python",
   "nbconvert_exporter": "python",
   "pygments_lexer": "ipython3",
   "version": "3.8.8"
  }
 },
 "nbformat": 4,
 "nbformat_minor": 5
}
