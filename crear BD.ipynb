{
 "cells": [
  {
   "cell_type": "markdown",
   "id": "aade50bb",
   "metadata": {},
   "source": [
    "# Crear la BD para guardar los datos"
   ]
  },
  {
   "cell_type": "code",
   "execution_count": 1,
   "id": "c1d5a11d",
   "metadata": {},
   "outputs": [],
   "source": [
    "import pandas as pd\n",
    "import numpy as np\n",
    "import matplotlib.pyplot as plt\n",
    "import seaborn as sns\n",
    "\n",
    "import mysql.connector\n",
    "from random import seed\n",
    "from random import randint\n",
    "\n",
    "import matplotlib as mpl"
   ]
  },
  {
   "cell_type": "code",
   "execution_count": 2,
   "id": "088c5f40",
   "metadata": {},
   "outputs": [
    {
     "name": "stdout",
     "output_type": "stream",
     "text": [
      "<mysql.connector.connection_cext.CMySQLConnection object at 0x000002358D63AA60>\n"
     ]
    }
   ],
   "source": [
    "# Connect to MySQL\n",
    "mydb = mysql.connector.connect(\n",
    "  host=\"localhost\",\n",
    "  user=\"cecilia\",\n",
    "  password=\"cecilia\"\n",
    ")\n",
    "\n",
    "print(mydb)"
   ]
  },
  {
   "cell_type": "code",
   "execution_count": 3,
   "id": "3d65ec81",
   "metadata": {},
   "outputs": [
    {
     "name": "stdout",
     "output_type": "stream",
     "text": [
      "Succesfull creation of database\n"
     ]
    }
   ],
   "source": [
    "# Create a database\n",
    "mycursor = mydb.cursor()\n",
    "\n",
    "mycursor.execute(\"CREATE DATABASE IF NOT EXISTS cryptopunks\")\n",
    "\n",
    "mycursor.execute(\"SHOW DATABASES\")\n",
    "\n",
    "for x in mycursor:\n",
    "  if x[0] == 'cryptopunks':\n",
    "    print('Succesfull creation of database')"
   ]
  },
  {
   "cell_type": "code",
   "execution_count": 4,
   "id": "87f9bdb9",
   "metadata": {},
   "outputs": [],
   "source": [
    "# Connect to the new database\n",
    "mydb = mysql.connector.connect(\n",
    "  host=\"localhost\",\n",
    "  user=\"cecilia\",\n",
    "  password=\"cecilia\",\n",
    "  database=\"cryptopunks\"\n",
    ")"
   ]
  },
  {
   "cell_type": "code",
   "execution_count": 6,
   "id": "551c9a8b",
   "metadata": {},
   "outputs": [],
   "source": [
    "mycursor = mydb.cursor()\n",
    "\n",
    "mycursor.execute(\"CREATE TABLE IF NOT EXISTS types (id INT NOT NULL AUTO_INCREMENT, name CHAR(55), PRIMARY KEY (id))\")\n",
    "mycursor.execute(\"CREATE TABLE IF NOT EXISTS attributes (id INT NOT NULL AUTO_INCREMENT, name CHAR(55), PRIMARY KEY (atID))\")\n",
    "\n",
    "mydb.commit()"
   ]
  },
  {
   "cell_type": "code",
   "execution_count": 93,
   "id": "6c5a4579",
   "metadata": {},
   "outputs": [],
   "source": [
    "mycursor = mydb.cursor()\n",
    "\n",
    "# Create tables \n",
    "\n",
    "mycursor.execute(\"CREATE TABLE IF NOT EXISTS types (id INT NOT NULL AUTO_INCREMENT, name CHAR(55), PRIMARY KEY (id))\")\n",
    "mycursor.execute(\"CREATE TABLE IF NOT EXISTS attributes (id INT NOT NULL AUTO_INCREMENT, name CHAR(55), PRIMARY KEY (atID))\")\n",
    "\n",
    "\n",
    "mycursor.execute(\"CREATE TABLE IF NOT EXISTS cryptopunks (cpID INT NOT NULL, owner CHAR(55), tyID INT NOT NULL, for_sale BOOLEAN, bids BOOLEAN, PRIMARY KEY (cpID), FOREIGN KEY (tyID) REFERENCES types(tyID))\")\n",
    "\n",
    "mycursor.execute(\"CREATE TABLE IF NOT EXISTS cp_attributes (cpID INT NOT NULL, atID INT NOT NULL, FOREIGN KEY (cpID) REFERENCES cryptopunks(cpID),FOREIGN KEY (atID) REFERENCES attributes(atID))\")\n",
    "mycursor.execute(\"CREATE TABLE IF NOT EXISTS transactions (trID INT NOT NULL AUTO_INCREMENT, cpID INT NOT NULL, tr_type CHAR(55), tr_from CHAR(55), tr_to CHAR(55), amount FLOAT(53,2), amount_dols FLOAT(53,2), txn DATE, PRIMARY KEY (trID), FOREIGN KEY (cpID) REFERENCES cryptopunks(cpID))\")\n",
    "\n",
    "    \n",
    "mydb.commit()"
   ]
  },
  {
   "cell_type": "code",
   "execution_count": null,
   "id": "5917e110",
   "metadata": {},
   "outputs": [],
   "source": [
    "# Ingresar los valores de la tabla types\n",
    "mycursor.execute(\"INSERT INTO `cryptopunks`.`types` (`tyID`, `at_type`, `quantity`, `avail`, `avg_sale`, `cheapest`) VALUES ('1', 'Alien', '9', '3', '0', '23000')\")\n",
    "mycursor.execute(\"INSERT INTO `cryptopunks`.`types` (`tyID`, `at_type`, `quantity`, `avail`, `avg_sale`, `cheapest`) VALUES ('2', 'Ape', '24', '3', '2500', '4160')\")\n",
    "mycursor.execute(\"INSERT INTO `cryptopunks`.`types` (`tyID`, `at_type`, `quantity`, `avail`, `avg_sale`, `cheapest`) VALUES ('3', 'Zombie', '88', '4', '900', '1380')\")\n",
    "mycursor.execute(\"INSERT INTO `cryptopunks`.`types` (`tyID`, `at_type`, `quantity`, `avail`, `avg_sale`, `cheapest`) VALUES ('4', 'Female', '3840', '510', '403', '68')\")\n",
    "mycursor.execute(\"INSERT INTO `cryptopunks`.`types` (`tyID`, `at_type`, `quantity`, `avail`, `avg_sale`, `cheapest`) VALUES ('5', 'Male', '6039', '851', '88', '73')\")\n",
    "\n",
    "mydb.commit()"
   ]
  },
  {
   "cell_type": "markdown",
   "id": "0241dd30",
   "metadata": {},
   "source": [
    "## ATENCION borra la base de datos"
   ]
  },
  {
   "cell_type": "code",
   "execution_count": 51,
   "id": "85fdbb8e",
   "metadata": {},
   "outputs": [
    {
     "ename": "DatabaseError",
     "evalue": "3730 (HY000): Cannot drop table 'cryptopunks' referenced by a foreign key constraint 'cp_attributes_ibfk_1' on table 'cp_attributes'.",
     "output_type": "error",
     "traceback": [
      "\u001b[1;31m---------------------------------------------------------------------------\u001b[0m",
      "\u001b[1;31mMySQLInterfaceError\u001b[0m                       Traceback (most recent call last)",
      "\u001b[1;32mC:\\ProgramData\\Anaconda3\\lib\\site-packages\\mysql\\connector\\connection_cext.py\u001b[0m in \u001b[0;36mcmd_query\u001b[1;34m(self, query, raw, buffered, raw_as_string)\u001b[0m\n\u001b[0;32m    516\u001b[0m                 \u001b[0mquery\u001b[0m \u001b[1;33m=\u001b[0m \u001b[0mquery\u001b[0m\u001b[1;33m.\u001b[0m\u001b[0mencode\u001b[0m\u001b[1;33m(\u001b[0m\u001b[1;34m'utf-8'\u001b[0m\u001b[1;33m)\u001b[0m\u001b[1;33m\u001b[0m\u001b[1;33m\u001b[0m\u001b[0m\n\u001b[1;32m--> 517\u001b[1;33m             self._cmysql.query(query,\n\u001b[0m\u001b[0;32m    518\u001b[0m                                \u001b[0mraw\u001b[0m\u001b[1;33m=\u001b[0m\u001b[0mraw\u001b[0m\u001b[1;33m,\u001b[0m \u001b[0mbuffered\u001b[0m\u001b[1;33m=\u001b[0m\u001b[0mbuffered\u001b[0m\u001b[1;33m,\u001b[0m\u001b[1;33m\u001b[0m\u001b[1;33m\u001b[0m\u001b[0m\n",
      "\u001b[1;31mMySQLInterfaceError\u001b[0m: Cannot drop table 'cryptopunks' referenced by a foreign key constraint 'cp_attributes_ibfk_1' on table 'cp_attributes'.",
      "\nDuring handling of the above exception, another exception occurred:\n",
      "\u001b[1;31mDatabaseError\u001b[0m                             Traceback (most recent call last)",
      "\u001b[1;32m<ipython-input-51-e19b1b2b43e3>\u001b[0m in \u001b[0;36m<module>\u001b[1;34m\u001b[0m\n\u001b[0;32m      1\u001b[0m \u001b[1;31m# To delete database\u001b[0m\u001b[1;33m\u001b[0m\u001b[1;33m\u001b[0m\u001b[1;33m\u001b[0m\u001b[0m\n\u001b[1;32m----> 2\u001b[1;33m \u001b[0mmycursor\u001b[0m\u001b[1;33m.\u001b[0m\u001b[0mexecute\u001b[0m\u001b[1;33m(\u001b[0m\u001b[1;34m\"DROP TABLE cryptopunks\"\u001b[0m\u001b[1;33m)\u001b[0m\u001b[1;33m\u001b[0m\u001b[1;33m\u001b[0m\u001b[0m\n\u001b[0m\u001b[0;32m      3\u001b[0m \u001b[0mmycursor\u001b[0m\u001b[1;33m.\u001b[0m\u001b[0mexecute\u001b[0m\u001b[1;33m(\u001b[0m\u001b[1;34m\"DROP TABLE attributes\"\u001b[0m\u001b[1;33m)\u001b[0m\u001b[1;33m\u001b[0m\u001b[1;33m\u001b[0m\u001b[0m\n\u001b[0;32m      4\u001b[0m \u001b[0mmycursor\u001b[0m\u001b[1;33m.\u001b[0m\u001b[0mexecute\u001b[0m\u001b[1;33m(\u001b[0m\u001b[1;34m\"DROP TABLE transactions\"\u001b[0m\u001b[1;33m)\u001b[0m\u001b[1;33m\u001b[0m\u001b[1;33m\u001b[0m\u001b[0m\n\u001b[0;32m      5\u001b[0m \u001b[0mmycursor\u001b[0m\u001b[1;33m.\u001b[0m\u001b[0mexecute\u001b[0m\u001b[1;33m(\u001b[0m\u001b[1;34m\"DROP DATABASE cryptopunks\"\u001b[0m\u001b[1;33m)\u001b[0m\u001b[1;33m\u001b[0m\u001b[1;33m\u001b[0m\u001b[0m\n",
      "\u001b[1;32mC:\\ProgramData\\Anaconda3\\lib\\site-packages\\mysql\\connector\\cursor_cext.py\u001b[0m in \u001b[0;36mexecute\u001b[1;34m(self, operation, params, multi)\u001b[0m\n\u001b[0;32m    268\u001b[0m \u001b[1;33m\u001b[0m\u001b[0m\n\u001b[0;32m    269\u001b[0m         \u001b[1;32mtry\u001b[0m\u001b[1;33m:\u001b[0m\u001b[1;33m\u001b[0m\u001b[1;33m\u001b[0m\u001b[0m\n\u001b[1;32m--> 270\u001b[1;33m             result = self._cnx.cmd_query(stmt, raw=self._raw,\n\u001b[0m\u001b[0;32m    271\u001b[0m                                          \u001b[0mbuffered\u001b[0m\u001b[1;33m=\u001b[0m\u001b[0mself\u001b[0m\u001b[1;33m.\u001b[0m\u001b[0m_buffered\u001b[0m\u001b[1;33m,\u001b[0m\u001b[1;33m\u001b[0m\u001b[1;33m\u001b[0m\u001b[0m\n\u001b[0;32m    272\u001b[0m                                          raw_as_string=self._raw_as_string)\n",
      "\u001b[1;32mC:\\ProgramData\\Anaconda3\\lib\\site-packages\\mysql\\connector\\connection_cext.py\u001b[0m in \u001b[0;36mcmd_query\u001b[1;34m(self, query, raw, buffered, raw_as_string)\u001b[0m\n\u001b[0;32m    520\u001b[0m                                query_attrs=self._query_attrs)\n\u001b[0;32m    521\u001b[0m         \u001b[1;32mexcept\u001b[0m \u001b[0mMySQLInterfaceError\u001b[0m \u001b[1;32mas\u001b[0m \u001b[0mexc\u001b[0m\u001b[1;33m:\u001b[0m\u001b[1;33m\u001b[0m\u001b[1;33m\u001b[0m\u001b[0m\n\u001b[1;32m--> 522\u001b[1;33m             raise errors.get_mysql_exception(exc.errno, msg=exc.msg,\n\u001b[0m\u001b[0;32m    523\u001b[0m                                              sqlstate=exc.sqlstate)\n\u001b[0;32m    524\u001b[0m         \u001b[1;32mexcept\u001b[0m \u001b[0mAttributeError\u001b[0m\u001b[1;33m:\u001b[0m\u001b[1;33m\u001b[0m\u001b[1;33m\u001b[0m\u001b[0m\n",
      "\u001b[1;31mDatabaseError\u001b[0m: 3730 (HY000): Cannot drop table 'cryptopunks' referenced by a foreign key constraint 'cp_attributes_ibfk_1' on table 'cp_attributes'."
     ]
    }
   ],
   "source": [
    "# To delete database\n",
    "mycursor.execute(\"DROP TABLE cryptopunks\") \n",
    "mycursor.execute(\"DROP TABLE attributes\") \n",
    "mycursor.execute(\"DROP TABLE transactions\") \n",
    "mycursor.execute(\"DROP DATABASE cryptopunks\")"
   ]
  },
  {
   "cell_type": "code",
   "execution_count": null,
   "id": "521cd85a",
   "metadata": {},
   "outputs": [],
   "source": []
  }
 ],
 "metadata": {
  "kernelspec": {
   "display_name": "Python 3",
   "language": "python",
   "name": "python3"
  },
  "language_info": {
   "codemirror_mode": {
    "name": "ipython",
    "version": 3
   },
   "file_extension": ".py",
   "mimetype": "text/x-python",
   "name": "python",
   "nbconvert_exporter": "python",
   "pygments_lexer": "ipython3",
   "version": "3.8.8"
  }
 },
 "nbformat": 4,
 "nbformat_minor": 5
}
