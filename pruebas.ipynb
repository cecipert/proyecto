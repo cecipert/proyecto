{
 "cells": [
  {
   "cell_type": "code",
   "execution_count": 5,
   "id": "a4861c18",
   "metadata": {},
   "outputs": [],
   "source": [
    "import pandas as pd\n",
    "import numpy as np\n",
    "\n",
    "from datetime import datetime\n",
    "\n",
    "import requests\n",
    "from bs4 import BeautifulSoup\n",
    "\n",
    "import time\n",
    "from selenium import webdriver\n",
    "from selenium.webdriver.chrome.service import Service\n",
    "\n",
    "from selenium.webdriver.common.keys import Keys\n",
    "from scrapy import Selector\n",
    "import math\n",
    "\n",
    "import mysql.connector\n",
    "\n",
    "import re"
   ]
  },
  {
   "cell_type": "code",
   "execution_count": null,
   "id": "f7b2f381",
   "metadata": {},
   "outputs": [],
   "source": []
  },
  {
   "cell_type": "code",
   "execution_count": 6,
   "id": "d556b84e",
   "metadata": {},
   "outputs": [],
   "source": [
    "str1 = '10,000,000,000,000,000,000,000,000,000YΞ ($18,326,199,951,171,875,000,000,000,000,000Y)'"
   ]
  },
  {
   "cell_type": "code",
   "execution_count": 7,
   "id": "f935b030",
   "metadata": {},
   "outputs": [
    {
     "ename": "TypeError",
     "evalue": "'NoneType' object is not subscriptable",
     "output_type": "error",
     "traceback": [
      "\u001b[1;31m---------------------------------------------------------------------------\u001b[0m",
      "\u001b[1;31mTypeError\u001b[0m                                 Traceback (most recent call last)",
      "\u001b[1;32m<ipython-input-7-a64f856d0353>\u001b[0m in \u001b[0;36m<module>\u001b[1;34m\u001b[0m\n\u001b[0;32m      1\u001b[0m \u001b[0msalida\u001b[0m \u001b[1;33m=\u001b[0m \u001b[0mre\u001b[0m\u001b[1;33m.\u001b[0m\u001b[0msearch\u001b[0m\u001b[1;33m(\u001b[0m\u001b[1;34m\"(((\\(\\$)\\s*\\d+)([,]\\d+){0,1}([,]\\d+){0,1}([.]?\\d{2})?)[MK]?\\)\"\u001b[0m\u001b[1;33m,\u001b[0m \u001b[0mstr1\u001b[0m\u001b[1;33m)\u001b[0m\u001b[1;33m\u001b[0m\u001b[1;33m\u001b[0m\u001b[0m\n\u001b[1;32m----> 2\u001b[1;33m \u001b[0mcon_coma\u001b[0m \u001b[1;33m=\u001b[0m \u001b[0msalida\u001b[0m\u001b[1;33m[\u001b[0m\u001b[1;36m0\u001b[0m\u001b[1;33m]\u001b[0m\u001b[1;33m[\u001b[0m\u001b[1;36m2\u001b[0m\u001b[1;33m:\u001b[0m\u001b[1;33m-\u001b[0m\u001b[1;36m1\u001b[0m\u001b[1;33m]\u001b[0m\u001b[1;33m\u001b[0m\u001b[1;33m\u001b[0m\u001b[0m\n\u001b[0m\u001b[0;32m      3\u001b[0m \u001b[0msin_coma\u001b[0m \u001b[1;33m=\u001b[0m \u001b[0mcon_coma\u001b[0m\u001b[1;33m.\u001b[0m\u001b[0mreplace\u001b[0m\u001b[1;33m(\u001b[0m\u001b[1;34m','\u001b[0m\u001b[1;33m,\u001b[0m\u001b[1;34m''\u001b[0m\u001b[1;33m)\u001b[0m\u001b[1;33m\u001b[0m\u001b[1;33m\u001b[0m\u001b[0m\n\u001b[0;32m      4\u001b[0m \u001b[1;32mif\u001b[0m \u001b[0msin_coma\u001b[0m\u001b[1;33m.\u001b[0m\u001b[0mfind\u001b[0m\u001b[1;33m(\u001b[0m\u001b[1;34m'M'\u001b[0m\u001b[1;33m)\u001b[0m\u001b[1;33m>\u001b[0m\u001b[1;36m0\u001b[0m\u001b[1;33m:\u001b[0m\u001b[1;33m\u001b[0m\u001b[1;33m\u001b[0m\u001b[0m\n\u001b[0;32m      5\u001b[0m     \u001b[0msin_coma\u001b[0m \u001b[1;33m=\u001b[0m \u001b[0msin_coma\u001b[0m\u001b[1;33m[\u001b[0m\u001b[1;36m0\u001b[0m\u001b[1;33m:\u001b[0m\u001b[1;33m-\u001b[0m\u001b[1;36m1\u001b[0m\u001b[1;33m]\u001b[0m\u001b[1;33m\u001b[0m\u001b[1;33m\u001b[0m\u001b[0m\n",
      "\u001b[1;31mTypeError\u001b[0m: 'NoneType' object is not subscriptable"
     ]
    }
   ],
   "source": [
    "        salida = re.search(\"(((\\(\\$)\\s*\\d+)([,]\\d+){0,1}([,]\\d+){0,1}([.]?\\d{2})?)[MK]?\\)\", str1)\n",
    "        con_coma = salida[0][2:-1]\n",
    "        sin_coma = con_coma.replace(',','')\n",
    "        if sin_coma.find('M')>0:\n",
    "            sin_coma = sin_coma[0:-1]\n",
    "            monto_dols = float(sin_coma)\n",
    "            monto_dols = monto_dols * 1000000\n",
    "        elif sin_coma.find('K')>0:\n",
    "            sin_coma = sin_coma[0:-1]\n",
    "            monto_dols = float(sin_coma)\n",
    "            monto_dols = monto_dols * 1000\n",
    "        else: \n",
    "            monto_dols = float(sin_coma)\n",
    "        con_E = re.search(\"(\\d+([,]\\d+)?([.]\\d{2})?)?\\Ξ\", str1)\n",
    "        monto = float(con_E[1].replace(',',''))\n",
    "        print(monto, monto_dols)\n"
   ]
  },
  {
   "cell_type": "code",
   "execution_count": null,
   "id": "d6203f7e",
   "metadata": {},
   "outputs": [],
   "source": []
  }
 ],
 "metadata": {
  "kernelspec": {
   "display_name": "Python 3",
   "language": "python",
   "name": "python3"
  },
  "language_info": {
   "codemirror_mode": {
    "name": "ipython",
    "version": 3
   },
   "file_extension": ".py",
   "mimetype": "text/x-python",
   "name": "python",
   "nbconvert_exporter": "python",
   "pygments_lexer": "ipython3",
   "version": "3.8.8"
  }
 },
 "nbformat": 4,
 "nbformat_minor": 5
}
