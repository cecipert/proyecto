{
 "cells": [
  {
   "cell_type": "markdown",
   "id": "2a49a8eb",
   "metadata": {},
   "source": [
    "# Cryptopunks: obtener datos de un cryptopunk"
   ]
  },
  {
   "cell_type": "code",
   "execution_count": 191,
   "id": "5d810f34",
   "metadata": {},
   "outputs": [],
   "source": [
    "import pandas as pd\n",
    "import numpy as np\n",
    "\n",
    "\n",
    "import requests\n",
    "from bs4 import BeautifulSoup\n",
    "\n",
    "import time\n",
    "from selenium import webdriver\n",
    "from selenium.webdriver.chrome.service import Service\n",
    "\n",
    "from selenium.webdriver.common.keys import Keys\n",
    "from scrapy import Selector\n",
    "import math"
   ]
  },
  {
   "cell_type": "markdown",
   "id": "7d7310ca",
   "metadata": {},
   "source": [
    "## Acceso a la página de un cryptopunk"
   ]
  },
  {
   "cell_type": "code",
   "execution_count": 192,
   "id": "07bb5313",
   "metadata": {},
   "outputs": [],
   "source": [
    "# Define the cryptopunt to scrap\n",
    "# nro = 8348\n",
    "nro = 5214\n",
    "\n",
    "url = 'https://www.larvalabs.com/cryptopunks/details/'+str(nro)\n",
    "\n"
   ]
  },
  {
   "cell_type": "code",
   "execution_count": 193,
   "id": "2377146d",
   "metadata": {},
   "outputs": [],
   "source": [
    "# Use BeautifulSoup por webscrapping\n",
    "html=requests.get(url)\n",
    "soup = BeautifulSoup(html.content, 'html.parser')\n",
    "#print(soup)"
   ]
  },
  {
   "cell_type": "markdown",
   "id": "f01403e4",
   "metadata": {},
   "source": [
    "## Obtener atributos del cryptopunk"
   ]
  },
  {
   "cell_type": "code",
   "execution_count": 201,
   "id": "6b479fdb",
   "metadata": {},
   "outputs": [
    {
     "name": "stdout",
     "output_type": "stream",
     "text": [
      "Atributos: ['Silver Chain', 'Wild Hair', 'Eye Patch']\n"
     ]
    }
   ],
   "source": [
    "cod =soup.find_all('div', class_=\"col-md-4\")\n",
    "textos = []\n",
    "for c in cod:\n",
    "    textos.append(c.find('a').text)\n",
    "    \n",
    "atributos = textos[1:]\n",
    "print('Atributos:',atributos)"
   ]
  },
  {
   "cell_type": "markdown",
   "id": "cc9623a3",
   "metadata": {},
   "source": [
    "## Obtener la lista de transacciones realizadas"
   ]
  },
  {
   "cell_type": "code",
   "execution_count": 202,
   "id": "1895494a",
   "metadata": {},
   "outputs": [],
   "source": [
    "text1 = soup.find_all('a', text = '')\n",
    "#print(text1)"
   ]
  },
  {
   "cell_type": "code",
   "execution_count": 203,
   "id": "a708a10d",
   "metadata": {},
   "outputs": [],
   "source": [
    "transacciones =[]"
   ]
  },
  {
   "cell_type": "code",
   "execution_count": 205,
   "id": "a92c43e6",
   "metadata": {},
   "outputs": [
    {
     "name": "stdout",
     "output_type": "stream",
     "text": [
      "[['Bid Withdrawn', '0x6ad931', '', '87Ξ ($207,436)', 'Jan 23, 2022'], ['Bid', '0x6ad931', '', '87Ξ ($207,436)', 'Jan 23, 2022'], ['Bid Withdrawn', 'punksotc…', '', '75Ξ ($277,358)', 'Dec 31, 2021'], ['Offered', '', '', '102.69Ξ ($379,759)', 'Dec 31, 2021'], ['Bid', 'punksotc…', '', '75Ξ ($277,358)', 'Dec 31, 2021'], ['Bid', 'thebinoc…', '', '69Ξ ($255,170)', 'Dec 31, 2021'], ['Bid Withdrawn', 'bundo.et…', '', '21Ξ ($43,351)', 'Jul 23, 2021'], ['Bid', 'bundo.et…', '', '21Ξ ($39,573)', 'Jul 17, 2021'], ['Claimed', '', '0xcc7c33', '', 'Jun 23, 2017'], [], ['Bid', '0x6ad931', '', '95Ξ ($226,510)', 'Jan 23, 2022'], ['Bid Withdrawn', '0x6ad931', '', '87Ξ ($207,436)', 'Jan 23, 2022'], ['Bid', '0x6ad931', '', '87Ξ ($207,436)', 'Jan 23, 2022'], ['Bid Withdrawn', 'punksotc…', '', '75Ξ ($277,358)', 'Dec 31, 2021'], ['Offered', '', '', '102.69Ξ ($379,759)', 'Dec 31, 2021'], ['Bid', 'punksotc…', '', '75Ξ ($277,358)', 'Dec 31, 2021'], ['Bid', 'thebinoc…', '', '69Ξ ($255,170)', 'Dec 31, 2021'], ['Bid Withdrawn', 'bundo.et…', '', '21Ξ ($43,351)', 'Jul 23, 2021'], ['Bid', 'bundo.et…', '', '21Ξ ($39,573)', 'Jul 17, 2021'], ['Claimed', '', '0xcc7c33', '', 'Jun 23, 2017']]\n"
     ]
    }
   ],
   "source": [
    "transac =soup.find('table', class_=\"table\")\n",
    "#print(transac)\n",
    "\n",
    "for tr in transac.find_all('tr'):\n",
    "    lista = []\n",
    "    for td in tr.find_all('td'):\n",
    "        lista.append(td.text.strip())\n",
    "    transacciones.append(lista)\n",
    "transacciones = transacciones[1:]\n",
    "print(transacciones)"
   ]
  },
  {
   "cell_type": "code",
   "execution_count": 206,
   "id": "967a7051",
   "metadata": {},
   "outputs": [],
   "source": [
    "## Obtener el nombre del owner, y saber si está a la venta y su precio"
   ]
  },
  {
   "cell_type": "code",
   "execution_count": 207,
   "id": "ddc344af",
   "metadata": {},
   "outputs": [
    {
     "name": "stdout",
     "output_type": "stream",
     "text": [
      "Owner: 0xcc7c33\n",
      "For sale True\n",
      "Bids: True\n"
     ]
    }
   ],
   "source": [
    "varios =soup.find_all('div', class_=\"col-md-10 col-md-offset-1\")\n",
    "\n",
    "for linea in varios:\n",
    "    texto = linea.text\n",
    "    if texto.strip().startswith('Current Market Status') and texto.find('currently')>0:\n",
    "        if texto.find(\"This punk is currently owned by address\")>0:\n",
    "            x = texto.split('address ')[1].split('.',1)[0]\n",
    "            print('Owner:',x)\n",
    "            \n",
    "        if texto.find(\"This punk has not been listed for sale by its owner\")>0:\n",
    "            sale = False\n",
    "        elif texto.find('This punk is currently for sale by owner')>0:\n",
    "            sale = True\n",
    "\n",
    "        if texto.find(\"There are currently no bids on this punk.\")>0:\n",
    "            bids = False\n",
    "        elif texto.find('There is a bid of')>0:\n",
    "            bids = True\n",
    "        print('For sale',sale)\n",
    "        print('Bids:',bids)\n",
    "\n"
   ]
  },
  {
   "cell_type": "code",
   "execution_count": null,
   "id": "876505b9",
   "metadata": {},
   "outputs": [],
   "source": []
  }
 ],
 "metadata": {
  "kernelspec": {
   "display_name": "Python 3",
   "language": "python",
   "name": "python3"
  },
  "language_info": {
   "codemirror_mode": {
    "name": "ipython",
    "version": 3
   },
   "file_extension": ".py",
   "mimetype": "text/x-python",
   "name": "python",
   "nbconvert_exporter": "python",
   "pygments_lexer": "ipython3",
   "version": "3.8.8"
  }
 },
 "nbformat": 4,
 "nbformat_minor": 5
}
